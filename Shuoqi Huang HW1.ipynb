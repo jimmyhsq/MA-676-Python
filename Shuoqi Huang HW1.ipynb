{
 "cells": [
  {
   "cell_type": "code",
   "execution_count": 9,
   "metadata": {},
   "outputs": [
    {
     "name": "stdout",
     "output_type": "stream",
     "text": [
      "[1, 2, 3, 4, 5, 6, 7, 8, 9, 10, 11, 12, 13, 14, 15, 16, 17, 18, 19, 20]\n"
     ]
    }
   ],
   "source": [
    "# 1 a)\n",
    "a = list(range(1,21))\n",
    "print(a)"
   ]
  },
  {
   "cell_type": "code",
   "execution_count": 12,
   "metadata": {},
   "outputs": [
    {
     "name": "stdout",
     "output_type": "stream",
     "text": [
      "[20, 19, 18, 17, 16, 15, 14, 13, 12, 11, 10, 9, 8, 7, 6, 5, 4, 3, 2, 1]\n"
     ]
    }
   ],
   "source": [
    "# b) \n",
    "b = list(reversed(range(1,21)))\n",
    "print(b)"
   ]
  },
  {
   "cell_type": "code",
   "execution_count": 16,
   "metadata": {},
   "outputs": [
    {
     "name": "stdout",
     "output_type": "stream",
     "text": [
      "[1, 2, 3, 4, 5, 6, 7, 8, 9, 10, 11, 12, 13, 14, 15, 16, 17, 18, 19, 20, 20, 19, 18, 17, 16, 15, 14, 13, 12, 11, 10, 9, 8, 7, 6, 5, 4, 3, 2, 1]\n"
     ]
    }
   ],
   "source": [
    "# c)\n",
    "c = list(range(1,21))+list(reversed(range(1,21)))\n",
    "print(c)"
   ]
  },
  {
   "cell_type": "code",
   "execution_count": 17,
   "metadata": {},
   "outputs": [
    {
     "name": "stdout",
     "output_type": "stream",
     "text": [
      "[4, 6, 3, 4, 6, 3, 4, 6, 3, 4, 6, 3, 4, 6, 3, 4, 6, 3, 4, 6, 3, 4, 6, 3, 4, 6, 3, 4, 6, 3]\n"
     ]
    }
   ],
   "source": [
    "# d)\n",
    "\n",
    "d = [4,6,3]\n",
    "print(d * 10)"
   ]
  },
  {
   "cell_type": "code",
   "execution_count": 23,
   "metadata": {},
   "outputs": [
    {
     "name": "stdout",
     "output_type": "stream",
     "text": [
      "[4, 6, 3, 4, 6, 3, 4, 6, 3, 4, 6, 3, 4, 6, 3, 4, 6, 3, 4, 6, 3, 4, 6, 3, 4, 6, 3, 4, 6, 3, 4]\n"
     ]
    }
   ],
   "source": [
    "# e) \n",
    "\n",
    "e = [4,6,3]*10 + [4]  \n",
    "\n",
    "print(e)"
   ]
  },
  {
   "cell_type": "code",
   "execution_count": 35,
   "metadata": {},
   "outputs": [
    {
     "name": "stdout",
     "output_type": "stream",
     "text": [
      "[-19.884530844146987, -22.178753389342127, -24.490696732801293, -26.77318244299339, -28.96923776809358, -31.011186439374526, -32.81977476033852, -34.30336011037369, -35.35719361853037, -35.862833712307676, -35.68773248011913, -34.685042251668044, -32.693695428321725, -29.538816297262944, -25.032529229039913, -18.975233154958836, -11.157417389647321, -1.3620985182056538, 10.632038010192232, 25.046704998273285, 42.09920106253872, 61.99663027669492, 84.92906736250312, 111.06158604202653, 140.52507505278805, 173.40577640857796, 209.7334942478357, 249.4684405588578, 292.4867067371234, 338.56437785851256, 387.36034029093213]\n"
     ]
    }
   ],
   "source": [
    "# 2 \n",
    "import numpy as np\n",
    "f = np.arange(3, 6.1, 0.1)\n",
    "x = [np.exp(i) * np.cos(i) for i in f]\n",
    "print(x)\n"
   ]
  },
  {
   "cell_type": "code",
   "execution_count": 36,
   "metadata": {},
   "outputs": [
    {
     "name": "stdout",
     "output_type": "stream",
     "text": [
      "[2.0, 2.0, 2.6666666666666665, 4.0, 6.4, 10.666666666666666, 18.285714285714285, 32.0, 56.888888888888886, 102.4, 186.1818181818182, 341.3333333333333, 630.1538461538462, 1170.2857142857142, 2184.5333333333333, 4096.0, 7710.117647058823, 14563.555555555555, 27594.105263157893, 52428.8, 99864.38095238095, 190650.18181818182, 364722.0869565217, 699050.6666666666, 1342177.28]\n"
     ]
    }
   ],
   "source": [
    "# 3\n",
    "\n",
    "g = list(range(1,26))\n",
    "x = [2**i/i for i in g]\n",
    "print(x)\n",
    "    "
   ]
  },
  {
   "cell_type": "code",
   "execution_count": 38,
   "metadata": {},
   "outputs": [
    {
     "name": "stdout",
     "output_type": "stream",
     "text": [
      "[-19, -17, -15, -13, -11, -9, -7, -5, -3, -1, 1, 3, 5, 7, 9, 11, 13, 15, 17, 19]\n"
     ]
    }
   ],
   "source": [
    "# 4 a)\n",
    "a = list(range(1,21))\n",
    "x = [a[i-1]-a[20-i] for i in a]\n",
    "print(x)"
   ]
  },
  {
   "cell_type": "code",
   "execution_count": 41,
   "metadata": {},
   "outputs": [
    {
     "name": "stdout",
     "output_type": "stream",
     "text": [
      "[1, 2, 3, 4, 5, 6, 7, 8, 9, 10, 11, 12, 13, 14, 15, 16, 17, 18, 19, 20]\n",
      "[False, True, False, True, False, True, False, True, False, True, False, True, False, True, False, True, False, True, False, True]\n"
     ]
    }
   ],
   "source": [
    "# 4 b) \n",
    "a = list(range(1,21))\n",
    "x =[a[i-1] % 2 == 0 for i in a]\n",
    "print(x)"
   ]
  },
  {
   "cell_type": "code",
   "execution_count": 24,
   "metadata": {},
   "outputs": [
    {
     "name": "stdout",
     "output_type": "stream",
     "text": [
      "742\n"
     ]
    }
   ],
   "source": [
    "# 5 a) \n",
    "import re \n",
    "letetrs = []\n",
    "with open('lorem.txt','r') as letter: \n",
    "    count = 0 \n",
    "    text = letter.read()\n",
    "    text_1 = re.findall(r\"[\\w]+\", text)\n",
    "    for character in text_1:\n",
    "        if (len(character) != 1) & (len(character) != 4) & (len(character) != 7):\n",
    "            count += 1 \n",
    "            letters.append(character)\n",
    "print(count)\n",
    "        \n",
    "\n"
   ]
  },
  {
   "cell_type": "code",
   "execution_count": 13,
   "metadata": {},
   "outputs": [
    {
     "name": "stdout",
     "output_type": "stream",
     "text": [
      "129\n"
     ]
    }
   ],
   "source": [
    "# 5 b)\n",
    "\n",
    "letters = []\n",
    "with open('lorem.txt') as letter:\n",
    "    count = 0\n",
    "    text = letter.read()\n",
    "    for character in text:\n",
    "        if character.isupper():\n",
    "            count += 1\n",
    "            letters.append(character)\n",
    "print(count)"
   ]
  }
 ],
 "metadata": {
  "kernelspec": {
   "display_name": "Python 3",
   "language": "python",
   "name": "python3"
  },
  "language_info": {
   "codemirror_mode": {
    "name": "ipython",
    "version": 3
   },
   "file_extension": ".py",
   "mimetype": "text/x-python",
   "name": "python",
   "nbconvert_exporter": "python",
   "pygments_lexer": "ipython3",
   "version": "3.7.4"
  }
 },
 "nbformat": 4,
 "nbformat_minor": 2
}
